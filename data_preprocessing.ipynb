{
 "cells": [
  {
   "cell_type": "code",
   "execution_count": null,
   "metadata": {},
   "outputs": [],
   "source": [
    "import geopandas as gpd\n",
    "from geodatasets import get_path\n",
    "\n",
    "# GeoTiff Images\n",
    "import rasterio\n",
    "from rasterio.features import geometry_mask\n",
    "from rasterio.mask import mask\n",
    "from osgeo import gdal\n",
    "from shapely.geometry import Polygon, mapping\n",
    "\n",
    "# Visualisation\n",
    "from matplotlib import pyplot as plt\n",
    "import matplotlib.image as img\n",
    "from matplotlib.pyplot import figure\n",
    "from PIL import Image\n",
    "\n",
    "# Model Building\n",
    "import ultralytics\n",
    "from ultralytics import YOLO\n",
    "import labelme2yolo\n",
    "import numpy as np\n",
    "import pandas as pd\n",
    "# Others\n",
    "import os\n",
    "import shutil\n",
    "import zipfile"
   ]
  },
  {
   "cell_type": "code",
   "execution_count": null,
   "metadata": {},
   "outputs": [],
   "source": [
    "selected_df=pd.read_csv('selected_df_info.csv')\n"
   ]
  },
  {
   "cell_type": "code",
   "execution_count": null,
   "metadata": {},
   "outputs": [],
   "source": [
    "selected_df.head(1)"
   ]
  },
  {
   "cell_type": "code",
   "execution_count": null,
   "metadata": {},
   "outputs": [],
   "source": [
    "pre_img_path_list = []\n",
    "post_img_path_list = []\n",
    "\n",
    "for i in selected_df['index']:\n",
    "    pre_img_name=f'Pre_Event_{i}.jpg'\n",
    "    pre_img_path_list.append(pre_img_name)\n",
    "\n",
    "    post_img_name=f'Post_Event_{i}.jpg'\n",
    "    post_img_path_list.append(post_img_name)"
   ]
  },
  {
   "cell_type": "code",
   "execution_count": null,
   "metadata": {},
   "outputs": [],
   "source": [
    "post_img_path_list[0]"
   ]
  },
  {
   "cell_type": "code",
   "execution_count": null,
   "metadata": {},
   "outputs": [],
   "source": [
    "directory = 'Pre_Event_Grids_In_JPEG'\n",
    "for filename in os.listdir(directory):\n",
    "    filepath = os.path.join(directory, filename)\n",
    "    if os.path.isfile(filepath):\n",
    "        if filename not in pre_img_path_list:\n",
    "            try:\n",
    "                os.remove(filepath)  # Delete the file\n",
    "                print(f\"File deleted: {filepath}\")\n",
    "            except FileNotFoundError:\n",
    "                print(f\"File not found: {filepath}\")\n",
    "            except PermissionError as pe:\n",
    "                print(f\"Permission error deleting file {filepath}: {pe}\")\n",
    "            except Exception as e:\n",
    "                print(f\"Error deleting file {filepath}: {e}\")\n",
    "        \n"
   ]
  },
  {
   "cell_type": "code",
   "execution_count": null,
   "metadata": {},
   "outputs": [],
   "source": [
    "directory = 'Post_Event_Grids_In_JPEG'\n",
    "for filename in os.listdir(directory):\n",
    "    filepath = os.path.join(directory, filename)\n",
    "    if os.path.isfile(filepath):\n",
    "        if filename not in post_img_path_list:\n",
    "            try:\n",
    "                os.remove(filepath)  # Delete the file\n",
    "                print(f\"File deleted: {filepath}\")\n",
    "            except FileNotFoundError:\n",
    "                print(f\"File not found: {filepath}\")\n",
    "            except PermissionError as pe:\n",
    "                print(f\"Permission error deleting file {filepath}: {pe}\")\n",
    "            except Exception as e:\n",
    "                print(f\"Error deleting file {filepath}: {e}\")\n",
    "        \n"
   ]
  }
 ],
 "metadata": {
  "kernelspec": {
   "display_name": "py39",
   "language": "python",
   "name": "python3"
  },
  "language_info": {
   "codemirror_mode": {
    "name": "ipython",
    "version": 3
   },
   "file_extension": ".py",
   "mimetype": "text/x-python",
   "name": "python",
   "nbconvert_exporter": "python",
   "pygments_lexer": "ipython3",
   "version": "3.9.18"
  }
 },
 "nbformat": 4,
 "nbformat_minor": 2
}
