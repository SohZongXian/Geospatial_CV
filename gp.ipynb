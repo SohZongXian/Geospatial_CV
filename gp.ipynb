{
 "cells": [
  {
   "cell_type": "code",
   "execution_count": 2,
   "metadata": {},
   "outputs": [],
   "source": [
    "import geopandas as gpd\n",
    "from geodatasets import get_path\n",
    "\n",
    "# Read the shapefile\n",
    "# shp_file = get_path(\"building_blueprint\")\n",
    "shp_file = r\"D:\\Development\\git_projects\\Geospatial_CV\\building_blueprint\\building_footprint_roi_challenge.shp\"\n",
    "gdf = gpd.read_file(shp_file)\n"
   ]
  },
  {
   "cell_type": "code",
   "execution_count": 17,
   "metadata": {},
   "outputs": [
    {
     "data": {
      "text/html": [
       "<div>\n",
       "<style scoped>\n",
       "    .dataframe tbody tr th:only-of-type {\n",
       "        vertical-align: middle;\n",
       "    }\n",
       "\n",
       "    .dataframe tbody tr th {\n",
       "        vertical-align: top;\n",
       "    }\n",
       "\n",
       "    .dataframe thead th {\n",
       "        text-align: right;\n",
       "    }\n",
       "</style>\n",
       "<table border=\"1\" class=\"dataframe\">\n",
       "  <thead>\n",
       "    <tr style=\"text-align: right;\">\n",
       "      <th></th>\n",
       "      <th>latitude</th>\n",
       "      <th>longitude</th>\n",
       "      <th>area_in_me</th>\n",
       "      <th>confidence</th>\n",
       "      <th>full_plus_</th>\n",
       "      <th>geometry</th>\n",
       "    </tr>\n",
       "  </thead>\n",
       "  <tbody>\n",
       "    <tr>\n",
       "      <th>0</th>\n",
       "      <td>18.448569</td>\n",
       "      <td>-66.146916</td>\n",
       "      <td>None</td>\n",
       "      <td>0.7140</td>\n",
       "      <td>77CMCVX3+C6GP</td>\n",
       "      <td>POLYGON ((167578.511 2042703.134, 167575.734 2...</td>\n",
       "    </tr>\n",
       "    <tr>\n",
       "      <th>1</th>\n",
       "      <td>18.411424</td>\n",
       "      <td>-66.182499</td>\n",
       "      <td>None</td>\n",
       "      <td>0.8935</td>\n",
       "      <td>77CMCR69+H26R</td>\n",
       "      <td>POLYGON ((163749.148 2038647.349, 163737.189 2...</td>\n",
       "    </tr>\n",
       "    <tr>\n",
       "      <th>2</th>\n",
       "      <td>18.429443</td>\n",
       "      <td>-66.167636</td>\n",
       "      <td>None</td>\n",
       "      <td>0.8074</td>\n",
       "      <td>77CMCRHJ+QWHP</td>\n",
       "      <td>POLYGON ((165354.588 2040621.133, 165350.801 2...</td>\n",
       "    </tr>\n",
       "    <tr>\n",
       "      <th>3</th>\n",
       "      <td>18.371113</td>\n",
       "      <td>-66.119793</td>\n",
       "      <td>None</td>\n",
       "      <td>0.8103</td>\n",
       "      <td>77CM9VCJ+C3WG</td>\n",
       "      <td>POLYGON ((170294.617 2034071.175, 170289.741 2...</td>\n",
       "    </tr>\n",
       "    <tr>\n",
       "      <th>4</th>\n",
       "      <td>18.418506</td>\n",
       "      <td>-66.172524</td>\n",
       "      <td>None</td>\n",
       "      <td>0.8449</td>\n",
       "      <td>77CMCR9G+CX56</td>\n",
       "      <td>POLYGON ((164821.285 2039417.821, 164806.291 2...</td>\n",
       "    </tr>\n",
       "    <tr>\n",
       "      <th>...</th>\n",
       "      <td>...</td>\n",
       "      <td>...</td>\n",
       "      <td>...</td>\n",
       "      <td>...</td>\n",
       "      <td>...</td>\n",
       "      <td>...</td>\n",
       "    </tr>\n",
       "    <tr>\n",
       "      <th>281567</th>\n",
       "      <td>18.438485</td>\n",
       "      <td>-66.119304</td>\n",
       "      <td>None</td>\n",
       "      <td>0.7072</td>\n",
       "      <td>77CMCVQJ+97WF</td>\n",
       "      <td>POLYGON ((170479.843 2041537.071, 170474.647 2...</td>\n",
       "    </tr>\n",
       "    <tr>\n",
       "      <th>281568</th>\n",
       "      <td>18.417240</td>\n",
       "      <td>-66.164903</td>\n",
       "      <td>None</td>\n",
       "      <td>0.6713</td>\n",
       "      <td>77CMCR8P+V2XC</td>\n",
       "      <td>POLYGON ((165618.117 2039265.732, 165611.185 2...</td>\n",
       "    </tr>\n",
       "    <tr>\n",
       "      <th>281569</th>\n",
       "      <td>18.396331</td>\n",
       "      <td>-66.119886</td>\n",
       "      <td>None</td>\n",
       "      <td>0.7770</td>\n",
       "      <td>77CM9VWJ+G2Q8</td>\n",
       "      <td>POLYGON ((170344.030 2036873.416, 170329.004 2...</td>\n",
       "    </tr>\n",
       "    <tr>\n",
       "      <th>281570</th>\n",
       "      <td>18.390318</td>\n",
       "      <td>-66.178915</td>\n",
       "      <td>None</td>\n",
       "      <td>0.8523</td>\n",
       "      <td>77CM9RRC+4CGP</td>\n",
       "      <td>POLYGON ((164091.330 2036312.981, 164081.023 2...</td>\n",
       "    </tr>\n",
       "    <tr>\n",
       "      <th>281571</th>\n",
       "      <td>18.412556</td>\n",
       "      <td>-66.082322</td>\n",
       "      <td>None</td>\n",
       "      <td>0.9044</td>\n",
       "      <td>77CMCW79+23F8</td>\n",
       "      <td>POLYGON ((174348.267 2038598.055, 174337.533 2...</td>\n",
       "    </tr>\n",
       "  </tbody>\n",
       "</table>\n",
       "<p>281572 rows × 6 columns</p>\n",
       "</div>"
      ],
      "text/plain": [
       "         latitude  longitude area_in_me  confidence     full_plus_  \\\n",
       "0       18.448569 -66.146916       None      0.7140  77CMCVX3+C6GP   \n",
       "1       18.411424 -66.182499       None      0.8935  77CMCR69+H26R   \n",
       "2       18.429443 -66.167636       None      0.8074  77CMCRHJ+QWHP   \n",
       "3       18.371113 -66.119793       None      0.8103  77CM9VCJ+C3WG   \n",
       "4       18.418506 -66.172524       None      0.8449  77CMCR9G+CX56   \n",
       "...           ...        ...        ...         ...            ...   \n",
       "281567  18.438485 -66.119304       None      0.7072  77CMCVQJ+97WF   \n",
       "281568  18.417240 -66.164903       None      0.6713  77CMCR8P+V2XC   \n",
       "281569  18.396331 -66.119886       None      0.7770  77CM9VWJ+G2Q8   \n",
       "281570  18.390318 -66.178915       None      0.8523  77CM9RRC+4CGP   \n",
       "281571  18.412556 -66.082322       None      0.9044  77CMCW79+23F8   \n",
       "\n",
       "                                                 geometry  \n",
       "0       POLYGON ((167578.511 2042703.134, 167575.734 2...  \n",
       "1       POLYGON ((163749.148 2038647.349, 163737.189 2...  \n",
       "2       POLYGON ((165354.588 2040621.133, 165350.801 2...  \n",
       "3       POLYGON ((170294.617 2034071.175, 170289.741 2...  \n",
       "4       POLYGON ((164821.285 2039417.821, 164806.291 2...  \n",
       "...                                                   ...  \n",
       "281567  POLYGON ((170479.843 2041537.071, 170474.647 2...  \n",
       "281568  POLYGON ((165618.117 2039265.732, 165611.185 2...  \n",
       "281569  POLYGON ((170344.030 2036873.416, 170329.004 2...  \n",
       "281570  POLYGON ((164091.330 2036312.981, 164081.023 2...  \n",
       "281571  POLYGON ((174348.267 2038598.055, 174337.533 2...  \n",
       "\n",
       "[281572 rows x 6 columns]"
      ]
     },
     "execution_count": 17,
     "metadata": {},
     "output_type": "execute_result"
    }
   ],
   "source": [
    "gdf"
   ]
  },
  {
   "cell_type": "code",
   "execution_count": 15,
   "metadata": {},
   "outputs": [
    {
     "data": {
      "text/plain": [
       "1"
      ]
     },
     "execution_count": 15,
     "metadata": {},
     "output_type": "execute_result"
    }
   ],
   "source": [
    "test = gdf['geometry'].head(1).values\n",
    "len(test)"
   ]
  },
  {
   "cell_type": "code",
   "execution_count": 16,
   "metadata": {},
   "outputs": [
    {
     "name": "stdout",
     "output_type": "stream",
     "text": [
      "POLYGON ((167578.5108706173 2042703.1337979182, 167575.73399842688 2042703.1463583289, 167575.75622103293 2042708.059323, 167578.5330932481 2042708.0467623794, 167578.5108706173 2042703.1337979182))\n"
     ]
    }
   ],
   "source": [
    "for data in test: \n",
    "    print(data)"
   ]
  }
 ],
 "metadata": {
  "kernelspec": {
   "display_name": "py39",
   "language": "python",
   "name": "python3"
  },
  "language_info": {
   "codemirror_mode": {
    "name": "ipython",
    "version": 3
   },
   "file_extension": ".py",
   "mimetype": "text/x-python",
   "name": "python",
   "nbconvert_exporter": "python",
   "pygments_lexer": "ipython3",
   "version": "3.9.18"
  }
 },
 "nbformat": 4,
 "nbformat_minor": 2
}
